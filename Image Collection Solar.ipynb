{
 "cells": [
  {
   "cell_type": "markdown",
   "id": "0221319c",
   "metadata": {},
   "source": [
    "# 1. Import Dependencies"
   ]
  },
  {
   "cell_type": "code",
   "execution_count": 1,
   "id": "49793f0c",
   "metadata": {},
   "outputs": [
    {
     "name": "stdout",
     "output_type": "stream",
     "text": [
      "Collecting opencv-python\n",
      "  Using cached opencv_python-4.7.0.72-cp37-abi3-win_amd64.whl (38.2 MB)\n",
      "Collecting numpy>=1.19.3\n",
      "  Using cached numpy-1.24.2-cp39-cp39-win_amd64.whl (14.9 MB)\n",
      "Installing collected packages: numpy, opencv-python\n",
      "Successfully installed numpy-1.24.2 opencv-python-4.7.0.72\n"
     ]
    }
   ],
   "source": [
    "!pip install opencv-python"
   ]
  },
  {
   "cell_type": "code",
   "execution_count": 2,
   "id": "029a68d1",
   "metadata": {},
   "outputs": [],
   "source": [
    "# Import opencv\n",
    "import cv2 \n",
    "\n",
    "# Import uuid\n",
    "import uuid\n",
    "\n",
    "# Import Operating System\n",
    "import os\n",
    "\n",
    "# Import time\n",
    "import time"
   ]
  },
  {
   "cell_type": "markdown",
   "id": "78efdb5d",
   "metadata": {},
   "source": [
    "# lebeling images"
   ]
  },
  {
   "cell_type": "code",
   "execution_count": 5,
   "id": "9ceab18d",
   "metadata": {},
   "outputs": [],
   "source": [
    "labels = ['SolarPanel']"
   ]
  },
  {
   "cell_type": "markdown",
   "id": "7a16553c",
   "metadata": {},
   "source": [
    "# 3. Setup Folders"
   ]
  },
  {
   "cell_type": "code",
   "execution_count": 3,
   "id": "20f01fd2",
   "metadata": {},
   "outputs": [],
   "source": [
    "IMAGES_PATH = os.path.join('Tensorflow', 'workspace', 'images', 'collectedimages')"
   ]
  },
  {
   "cell_type": "code",
   "execution_count": 6,
   "id": "66d71363",
   "metadata": {},
   "outputs": [],
   "source": [
    "if not os.path.exists(IMAGES_PATH):\n",
    "    if os.name == 'posix':\n",
    "        !mkdir -p {IMAGES_PATH}\n",
    "    if os.name == 'nt':\n",
    "         !mkdir {IMAGES_PATH}\n",
    "for label in labels:\n",
    "    path = os.path.join(IMAGES_PATH, label)\n",
    "    if not os.path.exists(path):\n",
    "        !mkdir {path}"
   ]
  },
  {
   "cell_type": "markdown",
   "id": "3046a632",
   "metadata": {},
   "source": [
    "# 5. Image Labelling"
   ]
  },
  {
   "cell_type": "code",
   "execution_count": 7,
   "id": "b06fed78",
   "metadata": {},
   "outputs": [
    {
     "name": "stdout",
     "output_type": "stream",
     "text": [
      "Collecting pyqt5\n",
      "  Using cached PyQt5-5.15.9-cp37-abi3-win_amd64.whl (6.8 MB)\n",
      "Collecting lxml\n",
      "  Using cached lxml-4.9.2-cp39-cp39-win_amd64.whl (3.9 MB)\n",
      "Collecting PyQt5-Qt5>=5.15.2\n",
      "  Using cached PyQt5_Qt5-5.15.2-py3-none-win_amd64.whl (50.1 MB)\n",
      "Collecting PyQt5-sip<13,>=12.11\n",
      "  Downloading PyQt5_sip-12.12.0-cp39-cp39-win_amd64.whl (78 kB)\n",
      "     ---------------------------------------- 0.0/78.4 kB ? eta -:--:--\n",
      "     -------------- ----------------------- 30.7/78.4 kB 660.6 kB/s eta 0:00:01\n",
      "     -------------------------------------- 78.4/78.4 kB 486.9 kB/s eta 0:00:00\n",
      "Installing collected packages: PyQt5-Qt5, PyQt5-sip, lxml, pyqt5\n",
      "Successfully installed PyQt5-Qt5-5.15.2 PyQt5-sip-12.12.0 lxml-4.9.2 pyqt5-5.15.9\n"
     ]
    }
   ],
   "source": [
    "!pip install --upgrade pyqt5 lxml"
   ]
  },
  {
   "cell_type": "code",
   "execution_count": 8,
   "id": "f3a349b8",
   "metadata": {},
   "outputs": [],
   "source": [
    "LABELIMG_PATH = os.path.join('Tensorflow', 'labelimg')"
   ]
  },
  {
   "cell_type": "code",
   "execution_count": 9,
   "id": "f21629c0",
   "metadata": {},
   "outputs": [
    {
     "name": "stderr",
     "output_type": "stream",
     "text": [
      "Cloning into 'Tensorflow\\labelimg'...\n"
     ]
    }
   ],
   "source": [
    "if not os.path.exists(LABELIMG_PATH):\n",
    "    !mkdir {LABELIMG_PATH}\n",
    "    !git clone https://github.com/tzutalin/labelImg {LABELIMG_PATH}"
   ]
  },
  {
   "cell_type": "code",
   "execution_count": 10,
   "id": "d1e7aabb",
   "metadata": {},
   "outputs": [],
   "source": [
    "if os.name == 'posix':\n",
    "    !make qt5py3\n",
    "if os.name =='nt':\n",
    "    !cd {LABELIMG_PATH} && pyrcc5 -o libs/resources.py resources.qrc"
   ]
  },
  {
   "cell_type": "code",
   "execution_count": 11,
   "id": "7202b99e",
   "metadata": {},
   "outputs": [
    {
     "name": "stdout",
     "output_type": "stream",
     "text": [
      "Cancel creation.\n",
      "Cancel creation.\n",
      "Image:E:\\Solar Panel Detection\\solar\\Tensorflow\\workspace\\images\\collectedimages\\SolarPanel\\b23.jpg -> Annotation:E:/Solar Panel Detection/solar/Tensorflow/workspace/images/collectedimages/SolarPanel\\b23.xml\n",
      "Image:E:\\Solar Panel Detection\\solar\\Tensorflow\\workspace\\images\\collectedimages\\SolarPanel\\b24.jpg -> Annotation:E:/Solar Panel Detection/solar/Tensorflow/workspace/images/collectedimages/SolarPanel\\b24.xml\n",
      "Image:E:\\Solar Panel Detection\\solar\\Tensorflow\\workspace\\images\\collectedimages\\SolarPanel\\b27.jpg -> Annotation:E:/Solar Panel Detection/solar/Tensorflow/workspace/images/collectedimages/SolarPanel\\b27.xml\n",
      "Image:E:\\Solar Panel Detection\\solar\\Tensorflow\\workspace\\images\\collectedimages\\SolarPanel\\b28.jpg -> Annotation:E:/Solar Panel Detection/solar/Tensorflow/workspace/images/collectedimages/SolarPanel\\b28.xml\n",
      "Image:E:\\Solar Panel Detection\\solar\\Tensorflow\\workspace\\images\\collectedimages\\SolarPanel\\b29.jpg -> Annotation:E:/Solar Panel Detection/solar/Tensorflow/workspace/images/collectedimages/SolarPanel\\b29.xml\n",
      "Image:E:\\Solar Panel Detection\\solar\\Tensorflow\\workspace\\images\\collectedimages\\SolarPanel\\b30.jpg -> Annotation:E:/Solar Panel Detection/solar/Tensorflow/workspace/images/collectedimages/SolarPanel\\b30.xml\n",
      "Image:E:\\Solar Panel Detection\\solar\\Tensorflow\\workspace\\images\\collectedimages\\SolarPanel\\building1.jpg -> Annotation:E:/Solar Panel Detection/solar/Tensorflow/workspace/images/collectedimages/SolarPanel\\building1.xml\n",
      "Image:E:\\Solar Panel Detection\\solar\\Tensorflow\\workspace\\images\\collectedimages\\SolarPanel\\building4.jpg -> Annotation:E:/Solar Panel Detection/solar/Tensorflow/workspace/images/collectedimages/SolarPanel\\building4.xml\n",
      "Image:E:\\Solar Panel Detection\\solar\\Tensorflow\\workspace\\images\\collectedimages\\SolarPanel\\building6.jpg -> Annotation:E:/Solar Panel Detection/solar/Tensorflow/workspace/images/collectedimages/SolarPanel\\building6.xml\n",
      "Image:E:\\Solar Panel Detection\\solar\\Tensorflow\\workspace\\images\\collectedimages\\SolarPanel\\building7.jpg -> Annotation:E:/Solar Panel Detection/solar/Tensorflow/workspace/images/collectedimages/SolarPanel\\building7.xml\n",
      "Image:E:\\Solar Panel Detection\\solar\\Tensorflow\\workspace\\images\\collectedimages\\SolarPanel\\building9.jpg -> Annotation:E:/Solar Panel Detection/solar/Tensorflow/workspace/images/collectedimages/SolarPanel\\building9.xml\n",
      "Image:E:\\Solar Panel Detection\\solar\\Tensorflow\\workspace\\images\\collectedimages\\SolarPanel\\building10.jpg -> Annotation:E:/Solar Panel Detection/solar/Tensorflow/workspace/images/collectedimages/SolarPanel\\building10.xml\n",
      "Image:E:\\Solar Panel Detection\\solar\\Tensorflow\\workspace\\images\\collectedimages\\SolarPanel\\building16.jpg -> Annotation:E:/Solar Panel Detection/solar/Tensorflow/workspace/images/collectedimages/SolarPanel\\building16.xml\n",
      "Image:E:\\Solar Panel Detection\\solar\\Tensorflow\\workspace\\images\\collectedimages\\SolarPanel\\building19.jpg -> Annotation:E:/Solar Panel Detection/solar/Tensorflow/workspace/images/collectedimages/SolarPanel\\building19.xml\n",
      "Image:E:\\Solar Panel Detection\\solar\\Tensorflow\\workspace\\images\\collectedimages\\SolarPanel\\building22.jpg -> Annotation:E:/Solar Panel Detection/solar/Tensorflow/workspace/images/collectedimages/SolarPanel\\building22.xml\n"
     ]
    }
   ],
   "source": [
    "!cd {LABELIMG_PATH} && python labelImg.py"
   ]
  },
  {
   "cell_type": "markdown",
   "id": "7fb4f5ba",
   "metadata": {},
   "source": [
    "# 6. Move them into a Training and Testing Partition"
   ]
  },
  {
   "cell_type": "markdown",
   "id": "a2bebfc3",
   "metadata": {},
   "source": [
    "# OPTIONAL - 7. Compress them for Colab Training"
   ]
  },
  {
   "cell_type": "code",
   "execution_count": null,
   "id": "5f547cca",
   "metadata": {},
   "outputs": [],
   "source": [
    "TRAIN_PATH = os.path.join('Tensorflow', 'workspace', 'images', 'train')\n",
    "TEST_PATH = os.path.join('Tensorflow', 'workspace', 'images', 'test')\n",
    "ARCHIVE_PATH = os.path.join('Tensorflow', 'workspace', 'images', 'archive.tar.gz')"
   ]
  },
  {
   "cell_type": "code",
   "execution_count": null,
   "id": "1fb08bcc",
   "metadata": {},
   "outputs": [],
   "source": [
    "!tar -czf {ARCHIVE_PATH} {TRAIN_PATH} {TEST_PATH}"
   ]
  },
  {
   "cell_type": "code",
   "execution_count": null,
   "id": "e8aa2aee",
   "metadata": {},
   "outputs": [],
   "source": []
  }
 ],
 "metadata": {
  "kernelspec": {
   "display_name": "solar",
   "language": "python",
   "name": "solar"
  },
  "language_info": {
   "codemirror_mode": {
    "name": "ipython",
    "version": 3
   },
   "file_extension": ".py",
   "mimetype": "text/x-python",
   "name": "python",
   "nbconvert_exporter": "python",
   "pygments_lexer": "ipython3",
   "version": "3.9.7"
  }
 },
 "nbformat": 4,
 "nbformat_minor": 5
}
